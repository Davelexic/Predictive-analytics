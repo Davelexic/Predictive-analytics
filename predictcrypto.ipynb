{
 "cells": [
  {
   "cell_type": "code",
   "execution_count": 1,
   "id": "709d7f91-cc79-418e-a4dc-fb7615905974",
   "metadata": {},
   "outputs": [],
   "source": [
    "import numpy as np\n",
    "import pandas as pd\n",
    "import matplotlib.pyplot as plt\n",
    "import pandas_datareader as web\n",
    "import datetime as dt\n",
    "from sklearn.preprocessing import MinMaxScaler\n",
    "from tensorflow.keras.layers import Dense, Dropout, LSTM\n",
    "from tensorflow.keras.models import Sequential"
   ]
  },
  {
   "cell_type": "code",
   "execution_count": 46,
   "id": "d56ae4f9-6fb7-4398-bd31-b870bc7d695f",
   "metadata": {},
   "outputs": [],
   "source": [
    "crypto_currency='ETH'\n",
    "against_currency='USD'"
   ]
  },
  {
   "cell_type": "code",
   "execution_count": 47,
   "id": "11accbf5-d27f-4a11-8315-a73563af1548",
   "metadata": {},
   "outputs": [],
   "source": [
    "start=dt.datetime(2016,1,1)"
   ]
  },
  {
   "cell_type": "code",
   "execution_count": 48,
   "id": "8807ee67-796a-4524-bc21-4d8758c5cc8c",
   "metadata": {},
   "outputs": [],
   "source": [
    "end=dt.datetime.now()"
   ]
  },
  {
   "cell_type": "code",
   "execution_count": 49,
   "id": "890056e1-483e-460b-a0ae-4b6323950bd3",
   "metadata": {},
   "outputs": [],
   "source": [
    "data=web.DataReader(f'{crypto_currency}-{against_currency}', 'yahoo',start, end)"
   ]
  },
  {
   "cell_type": "markdown",
   "id": "4961c0a3-a272-4846-9a58-661f0ab16809",
   "metadata": {},
   "source": [
    "#### prepare data"
   ]
  },
  {
   "cell_type": "code",
   "execution_count": 50,
   "id": "b29afb53-2e21-449d-97c4-ced945754117",
   "metadata": {},
   "outputs": [],
   "source": [
    "scaler =MinMaxScaler(feature_range=(0,1))"
   ]
  },
  {
   "cell_type": "code",
   "execution_count": 51,
   "id": "a59df67b-0b75-49b6-a2e7-99dc8c91dc3e",
   "metadata": {},
   "outputs": [],
   "source": [
    "scaled_data=scaler.fit_transform(data['Close'].values.reshape(-1,1))"
   ]
  },
  {
   "cell_type": "code",
   "execution_count": 52,
   "id": "4bfe42a9-b45d-4d76-bfaa-15577b168cb5",
   "metadata": {},
   "outputs": [],
   "source": [
    "prediction_days=60"
   ]
  },
  {
   "cell_type": "code",
   "execution_count": null,
   "id": "fe661970-421a-4096-92ba-86d0923d269e",
   "metadata": {},
   "outputs": [],
   "source": [
    "#future_days=30"
   ]
  },
  {
   "cell_type": "code",
   "execution_count": 53,
   "id": "42ac28d9-18e6-40f6-8a1f-7f81c074e3aa",
   "metadata": {},
   "outputs": [],
   "source": [
    "x_train,y_train=[],[]"
   ]
  },
  {
   "cell_type": "code",
   "execution_count": 54,
   "id": "05c6b9fa-07ff-4f64-adc7-dd880352b5bb",
   "metadata": {},
   "outputs": [],
   "source": [
    "for x in range (prediction_days,len(scaled_data)):\n",
    "    x_train.append(scaled_data[x-prediction_days:x,0])\n",
    "    y_train.append(scaled_data[x,0])"
   ]
  },
  {
   "cell_type": "code",
   "execution_count": 55,
   "id": "854caa91-6d4e-434b-af83-a5a65ea6498d",
   "metadata": {},
   "outputs": [],
   "source": [
    "x_train, y_train=np.array(x_train),np.array(y_train)"
   ]
  },
  {
   "cell_type": "code",
   "execution_count": 56,
   "id": "83a0c319-5e10-4258-beaf-56c8d5eee0eb",
   "metadata": {},
   "outputs": [],
   "source": [
    "x_train=np.reshape(x_train,(x_train.shape[0],x_train.shape[1],1))"
   ]
  },
  {
   "cell_type": "markdown",
   "id": "e738a498-9566-439a-929b-5ec06967bf21",
   "metadata": {},
   "source": [
    "#### Create Neural Network numpy 1.19.5"
   ]
  },
  {
   "cell_type": "code",
   "execution_count": 57,
   "id": "11e34faa-17ce-46f4-9c44-fe7f4bd9532c",
   "metadata": {},
   "outputs": [],
   "source": [
    "model=Sequential()"
   ]
  },
  {
   "cell_type": "code",
   "execution_count": 58,
   "id": "e9719a02-6f26-4560-a4ea-79aa42771099",
   "metadata": {},
   "outputs": [],
   "source": [
    "model.add(LSTM(units=50,return_sequences=True,input_shape=[x_train.shape[1],1]))"
   ]
  },
  {
   "cell_type": "code",
   "execution_count": 59,
   "id": "33239ba9-f1a9-4ca3-9b0c-37a788561627",
   "metadata": {},
   "outputs": [],
   "source": [
    "model.add(Dropout(0.2))"
   ]
  },
  {
   "cell_type": "code",
   "execution_count": 60,
   "id": "9f91c1ef-ef50-47f3-b816-99c6ccacdd09",
   "metadata": {},
   "outputs": [],
   "source": [
    "model.add(LSTM(units=50,return_sequences=True))"
   ]
  },
  {
   "cell_type": "code",
   "execution_count": 61,
   "id": "ee5ede07-9fe5-454a-9592-fe81dbb70856",
   "metadata": {},
   "outputs": [],
   "source": [
    "model.add(Dropout(0.2))"
   ]
  },
  {
   "cell_type": "code",
   "execution_count": 62,
   "id": "95339eb9-b583-4727-9204-8a690022f218",
   "metadata": {},
   "outputs": [],
   "source": [
    "model.add(LSTM(units=50))"
   ]
  },
  {
   "cell_type": "code",
   "execution_count": 63,
   "id": "4700e0bc-2977-48b1-a867-127778234feb",
   "metadata": {},
   "outputs": [],
   "source": [
    "model.add(Dropout(0.2))"
   ]
  },
  {
   "cell_type": "code",
   "execution_count": 64,
   "id": "e1b8ef51-e559-43b9-b3bc-335db9fd50c6",
   "metadata": {},
   "outputs": [],
   "source": [
    "model.add(Dense(units=1))"
   ]
  },
  {
   "cell_type": "code",
   "execution_count": 65,
   "id": "11bcbc0d-26b0-433a-9400-70fa913064b9",
   "metadata": {},
   "outputs": [],
   "source": [
    "model.compile(optimizer='adam',loss='mean_squared_error')"
   ]
  },
  {
   "cell_type": "code",
   "execution_count": 66,
   "id": "877df822-834c-47b0-b7c6-a74fe196839f",
   "metadata": {
    "collapsed": true,
    "jupyter": {
     "outputs_hidden": true
    },
    "tags": []
   },
   "outputs": [
    {
     "name": "stdout",
     "output_type": "stream",
     "text": [
      "Epoch 1/25\n",
      "61/61 [==============================] - 7s 43ms/step - loss: 0.0037\n",
      "Epoch 2/25\n",
      "61/61 [==============================] - 3s 42ms/step - loss: 0.0017\n",
      "Epoch 3/25\n",
      "61/61 [==============================] - 2s 40ms/step - loss: 0.0015\n",
      "Epoch 4/25\n",
      "61/61 [==============================] - 3s 41ms/step - loss: 0.0013\n",
      "Epoch 5/25\n",
      "61/61 [==============================] - 3s 42ms/step - loss: 0.0013\n",
      "Epoch 6/25\n",
      "61/61 [==============================] - 2s 40ms/step - loss: 0.0011\n",
      "Epoch 7/25\n",
      "61/61 [==============================] - 2s 40ms/step - loss: 0.0013\n",
      "Epoch 8/25\n",
      "61/61 [==============================] - 2s 40ms/step - loss: 0.0013\n",
      "Epoch 9/25\n",
      "61/61 [==============================] - 2s 40ms/step - loss: 9.6457e-04\n",
      "Epoch 10/25\n",
      "61/61 [==============================] - 2s 40ms/step - loss: 8.2093e-04\n",
      "Epoch 11/25\n",
      "61/61 [==============================] - 2s 40ms/step - loss: 9.3937e-04\n",
      "Epoch 12/25\n",
      "61/61 [==============================] - 2s 40ms/step - loss: 0.0010\n",
      "Epoch 13/25\n",
      "61/61 [==============================] - 2s 40ms/step - loss: 8.5359e-04\n",
      "Epoch 14/25\n",
      "61/61 [==============================] - 2s 40ms/step - loss: 6.7209e-04\n",
      "Epoch 15/25\n",
      "61/61 [==============================] - 3s 42ms/step - loss: 7.3097e-04\n",
      "Epoch 16/25\n",
      "61/61 [==============================] - 3s 42ms/step - loss: 6.2677e-04\n",
      "Epoch 17/25\n",
      "61/61 [==============================] - 2s 40ms/step - loss: 5.8853e-04\n",
      "Epoch 18/25\n",
      "61/61 [==============================] - 2s 40ms/step - loss: 7.2568e-04\n",
      "Epoch 19/25\n",
      "61/61 [==============================] - 3s 41ms/step - loss: 6.5249e-04\n",
      "Epoch 20/25\n",
      "61/61 [==============================] - 3s 44ms/step - loss: 6.5676e-04\n",
      "Epoch 21/25\n",
      "61/61 [==============================] - 3s 47ms/step - loss: 6.8992e-04\n",
      "Epoch 22/25\n",
      "61/61 [==============================] - 3s 42ms/step - loss: 5.9025e-04\n",
      "Epoch 23/25\n",
      "61/61 [==============================] - 3s 43ms/step - loss: 6.1945e-04\n",
      "Epoch 24/25\n",
      "61/61 [==============================] - 3s 42ms/step - loss: 7.7214e-04\n",
      "Epoch 25/25\n",
      "61/61 [==============================] - 2s 40ms/step - loss: 5.5439e-04\n"
     ]
    },
    {
     "data": {
      "text/plain": [
       "<tensorflow.python.keras.callbacks.History at 0x1be6a2593a0>"
      ]
     },
     "execution_count": 66,
     "metadata": {},
     "output_type": "execute_result"
    }
   ],
   "source": [
    "model.fit(x_train,y_train, epochs=25,batch_size=32)"
   ]
  },
  {
   "cell_type": "markdown",
   "id": "2b808d35-cabc-4a38-9037-dc43d5b056bc",
   "metadata": {},
   "source": [
    "#### Testing the data"
   ]
  },
  {
   "cell_type": "code",
   "execution_count": 67,
   "id": "6c932904-5107-497c-aed9-9a1d4257bc69",
   "metadata": {},
   "outputs": [],
   "source": [
    "test_start=dt.datetime(2020,1,1)"
   ]
  },
  {
   "cell_type": "code",
   "execution_count": 68,
   "id": "72ea6114-ade5-498c-b95c-6d6f8387885c",
   "metadata": {},
   "outputs": [],
   "source": [
    "test_end=dt.datetime.now()"
   ]
  },
  {
   "cell_type": "code",
   "execution_count": 69,
   "id": "abf6f154-257a-4c47-b9a0-b44076952c3f",
   "metadata": {},
   "outputs": [],
   "source": [
    "test_data=web.DataReader(f'{crypto_currency}-{against_currency}','yahoo',test_start,test_end)"
   ]
  },
  {
   "cell_type": "code",
   "execution_count": 70,
   "id": "669f91e6-34f4-4349-b09a-b07ddd7567fd",
   "metadata": {},
   "outputs": [],
   "source": [
    "actual_prices=test_data['Close'].values"
   ]
  },
  {
   "cell_type": "code",
   "execution_count": 71,
   "id": "6ec1b96e-78f1-44be-8989-0b16e0623ecd",
   "metadata": {},
   "outputs": [],
   "source": [
    "total_datasets=pd.concat((data['Close'],test_data['Close']),axis=0)"
   ]
  },
  {
   "cell_type": "code",
   "execution_count": 72,
   "id": "875af86c-b8f1-4465-a289-91b9bca3f1cc",
   "metadata": {},
   "outputs": [],
   "source": [
    "model_inputs=total_datasets[len(total_datasets)-len(test_data)-prediction_days:].values"
   ]
  },
  {
   "cell_type": "code",
   "execution_count": 73,
   "id": "fc2e05e7-8222-4c3f-88d0-87bdabbaf094",
   "metadata": {},
   "outputs": [],
   "source": [
    "model_inputs=model_inputs.reshape(-1,1)"
   ]
  },
  {
   "cell_type": "code",
   "execution_count": 74,
   "id": "8662225a-f201-4794-b9a9-e29b4994361b",
   "metadata": {},
   "outputs": [],
   "source": [
    "model_inputs=scaler.fit_transform(model_inputs)"
   ]
  },
  {
   "cell_type": "code",
   "execution_count": 75,
   "id": "f8a891ad-2447-4de0-9e3f-a94b48b54f29",
   "metadata": {},
   "outputs": [],
   "source": [
    "x_test=[]"
   ]
  },
  {
   "cell_type": "code",
   "execution_count": 76,
   "id": "59f89a76-da15-4c0c-83ae-526aa8249d4a",
   "metadata": {},
   "outputs": [],
   "source": [
    "for x in range(prediction_days,len(model_inputs)):\n",
    "    x_test.append(model_inputs[x-prediction_days:x,0])"
   ]
  },
  {
   "cell_type": "code",
   "execution_count": 77,
   "id": "67fbe1f6-f5c8-4221-8a72-cd532ad3a955",
   "metadata": {},
   "outputs": [],
   "source": [
    "x_test=np.array(x_test)"
   ]
  },
  {
   "cell_type": "code",
   "execution_count": 78,
   "id": "586034bf-aaef-431e-ae03-af951c78e9f2",
   "metadata": {},
   "outputs": [],
   "source": [
    "x_test=np.reshape(x_test,(x_test.shape[0],x_test.shape[1],1))"
   ]
  },
  {
   "cell_type": "code",
   "execution_count": 79,
   "id": "6aed0dc8-7306-4306-93e5-981865cf74a5",
   "metadata": {},
   "outputs": [],
   "source": [
    "prediction_prices=model.predict(x_test)"
   ]
  },
  {
   "cell_type": "code",
   "execution_count": 80,
   "id": "7271ec21-08a1-4d71-89bd-5f3385753ae9",
   "metadata": {},
   "outputs": [],
   "source": [
    "prediction_prices=scaler.inverse_transform(prediction_prices)"
   ]
  },
  {
   "cell_type": "code",
   "execution_count": 81,
   "id": "6d4844fb-f545-4980-a66a-2c00ef5b025b",
   "metadata": {},
   "outputs": [
    {
     "data": {
      "image/png": "[encoded data removed]",
      "text/plain": [
       "<Figure size 432x288 with 1 Axes>"
      ]
     },
     "metadata": {
      "needs_background": "light"
     },
     "output_type": "display_data"
    }
   ],
   "source": [
    "plt.plot(actual_prices,color='black',label=\"actual Prices\")\n",
    "plt.plot(prediction_prices, color='green',label='Predicted Prices')\n",
    "plt.title(f'{crypto_currency} price prediction')\n",
    "plt.xlabel('Time')\n",
    "plt.ylabel('Price')\n",
    "plt.legend(loc='upper left')\n",
    "plt.show()"
   ]
  },
  {
   "cell_type": "code",
   "execution_count": 82,
   "id": "2bbc4878-a21d-45ff-bbd0-3589e0222699",
   "metadata": {},
   "outputs": [],
   "source": [
    "#### predicting next day"
   ]
  },
  {
   "cell_type": "code",
   "execution_count": 83,
   "id": "fc36d093-f307-4700-a36b-b03a3ee22b1f",
   "metadata": {},
   "outputs": [],
   "source": [
    "real_data=[model_inputs[len(model_inputs)+ 1- prediction_days:len(model_inputs+1),0]]"
   ]
  },
  {
   "cell_type": "code",
   "execution_count": 84,
   "id": "fdd5912d-eb30-4f32-84b7-0d29890d24bb",
   "metadata": {},
   "outputs": [],
   "source": [
    "real_data=np.array(real_data)"
   ]
  },
  {
   "cell_type": "code",
   "execution_count": 85,
   "id": "b97299d1-be80-420c-81c6-3634ccff518e",
   "metadata": {},
   "outputs": [],
   "source": [
    "real_data=np.reshape(real_data, (real_data.shape[0],real_data.shape[1],1))"
   ]
  },
  {
   "cell_type": "code",
   "execution_count": 86,
   "id": "7f82d7d9-dfe3-49b1-ad22-35bc5949443f",
   "metadata": {},
   "outputs": [
    {
     "name": "stdout",
     "output_type": "stream",
     "text": [
      "WARNING:tensorflow:Model was constructed with shape (None, 60, 1) for input KerasTensor(type_spec=TensorSpec(shape=(None, 60, 1), dtype=tf.float32, name='lstm_3_input'), name='lstm_3_input', description=\"created by layer 'lstm_3_input'\"), but it was called on an input with incompatible shape (None, 59, 1).\n"
     ]
    }
   ],
   "source": [
    "prediction=model.predict(real_data)"
   ]
  },
  {
   "cell_type": "code",
   "execution_count": 87,
   "id": "6045d73e-c236-4765-b8ec-a47d6bb2e856",
   "metadata": {},
   "outputs": [],
   "source": [
    "prediction=scaler.inverse_transform(prediction)"
   ]
  },
  {
   "cell_type": "code",
   "execution_count": 88,
   "id": "6c1042b5-c774-4726-803d-b3b734575ac1",
   "metadata": {},
   "outputs": [
    {
     "name": "stdout",
     "output_type": "stream",
     "text": [
      "Prediction:[[2017.8284]]\n"
     ]
    }
   ],
   "source": [
    "print(f'Prediction:{prediction}')"
   ]
  }
 ],
 "metadata": {
  "kernelspec": {
   "display_name": "machinelearning",
   "language": "python",
   "name": "machinelearning"
  },
  "language_info": {
   "codemirror_mode": {
    "name": "ipython",
    "version": 3
   },
   "file_extension": ".py",
   "mimetype": "text/x-python",
   "name": "python",
   "nbconvert_exporter": "python",
   "pygments_lexer": "ipython3",
   "version": "3.9.5"
  }
 },
 "nbformat": 4,
 "nbformat_minor": 5
}
