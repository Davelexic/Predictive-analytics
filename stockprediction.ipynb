{
 "cells": [
  {
   "cell_type": "markdown",
   "id": "a5e5ba54-7ba3-4f72-ab4d-3d829dcad4d9",
   "metadata": {},
   "source": [
    "### Predicting Next Day Stock Prices"
   ]
  },
  {
   "cell_type": "code",
   "execution_count": null,
   "id": "3cb2eb6e-442f-491a-9f26-3503cc04ba01",
   "metadata": {},
   "outputs": [],
   "source": [
    "import pandas as pd\n",
    "import numpy as np \n",
    "import matplotlib.pyplot as plt\n",
    "import pandas_datareader as web\n",
    "import datetime as dt\n",
    "from sklearn.preprocessing import MinMaxScaler\n",
    "from tensorflow.keras.models import Sequential \n",
    "from tensorflow.keras.layers import Dense, Dropout, LSTM"
   ]
  },
  {
   "cell_type": "markdown",
   "id": "e77a380e-9238-4b5d-8d81-a51c1ae6f834",
   "metadata": {},
   "source": [
    "#### Load the Data"
   ]
  },
  {
   "cell_type": "code",
   "execution_count": 3,
   "id": "336d9f9a-6c9a-4bfc-af0c-7ed725721593",
   "metadata": {},
   "outputs": [],
   "source": [
    "company='FB'"
   ]
  },
  {
   "cell_type": "code",
   "execution_count": 4,
   "id": "512170d1-2e09-4e9b-939a-5e835cf0d71c",
   "metadata": {},
   "outputs": [],
   "source": [
    "start= dt.datetime(2012,1,1)"
   ]
  },
  {
   "cell_type": "code",
   "execution_count": 5,
   "id": "f3f17ad5-23b7-44b5-97cc-2095f46b6138",
   "metadata": {},
   "outputs": [],
   "source": [
    "end= dt.datetime(2020,1,1)"
   ]
  },
  {
   "cell_type": "code",
   "execution_count": 6,
   "id": "1f4fb5b4-6ea5-4bf0-854d-5ba4c2655901",
   "metadata": {},
   "outputs": [],
   "source": [
    "data=web.DataReader(company, 'yahoo',start,end)"
   ]
  },
  {
   "cell_type": "markdown",
   "id": "7aa2056b-3965-4709-9b19-2dd29043c9ed",
   "metadata": {},
   "source": [
    "#### Prepare the Data"
   ]
  },
  {
   "cell_type": "code",
   "execution_count": 8,
   "id": "62d5703a-e384-45d3-b95e-2497a876fa04",
   "metadata": {},
   "outputs": [],
   "source": [
    "scaler = MinMaxScaler(feature_range=(0,1))"
   ]
  },
  {
   "cell_type": "code",
   "execution_count": 9,
   "id": "83937cce-0753-4b9d-b01b-6d9eb551514b",
   "metadata": {},
   "outputs": [],
   "source": [
    "scaled_data=scaler.fit_transform(data['Close'].values.reshape(-1,1))"
   ]
  },
  {
   "cell_type": "code",
   "execution_count": 10,
   "id": "8dff3bb6-a8fe-4fa3-8106-fa9c82250542",
   "metadata": {},
   "outputs": [],
   "source": [
    "prediction_days=60"
   ]
  },
  {
   "cell_type": "code",
   "execution_count": 11,
   "id": "0386dcdb-9162-423d-a7c9-3f5b506205cb",
   "metadata": {},
   "outputs": [],
   "source": [
    "x_train=[]"
   ]
  },
  {
   "cell_type": "code",
   "execution_count": 12,
   "id": "04215705-d4bc-4f5c-8dc8-ec9950be0dbb",
   "metadata": {},
   "outputs": [],
   "source": [
    "y_train=[]"
   ]
  },
  {
   "cell_type": "code",
   "execution_count": 13,
   "id": "0db390db-267b-44e8-9bdb-6730be352789",
   "metadata": {},
   "outputs": [],
   "source": [
    "for x in range(prediction_days, len(scaled_data)):\n",
    "    x_train.append(scaled_data[x-prediction_days:x, 0])\n",
    "    y_train.append(scaled_data[x,0])\n",
    "\n",
    "x_train, y_train= np.array(x_train), np.array(y_train)\n",
    "x_train=np.reshape(x_train, (x_train.shape[0],x_train.shape[1],1))"
   ]
  },
  {
   "cell_type": "markdown",
   "id": "425f43f9-7a96-4ad2-86f1-c53493e16054",
   "metadata": {},
   "source": [
    "#### Build the Model"
   ]
  },
  {
   "cell_type": "code",
   "execution_count": 15,
   "id": "777c7ae5-3b78-4fbe-acb0-fe259d779249",
   "metadata": {},
   "outputs": [],
   "source": [
    "model = Sequential()"
   ]
  },
  {
   "cell_type": "code",
   "execution_count": 16,
   "id": "b64d7f50-1c4f-47a3-9b10-bd6931635536",
   "metadata": {},
   "outputs": [],
   "source": [
    "model.add(LSTM(units=50, return_sequences=True, input_shape=(x_train.shape[1],1)))"
   ]
  },
  {
   "cell_type": "code",
   "execution_count": 17,
   "id": "78ba780a-8830-492b-9092-0f6fdcb3f241",
   "metadata": {},
   "outputs": [],
   "source": [
    "model.add(Dropout(0.2))"
   ]
  },
  {
   "cell_type": "code",
   "execution_count": 18,
   "id": "e3884906-bef5-4740-9160-11217872b118",
   "metadata": {},
   "outputs": [],
   "source": [
    "model.add(LSTM(units=50, return_sequences=True))"
   ]
  },
  {
   "cell_type": "code",
   "execution_count": 19,
   "id": "bccbb7a6-03b2-4f5e-a18f-9cf2f7006e8b",
   "metadata": {},
   "outputs": [],
   "source": [
    "model.add(Dropout(0.2))"
   ]
  },
  {
   "cell_type": "code",
   "execution_count": 20,
   "id": "73e80615-ed16-448e-9c9b-076840b4dbbe",
   "metadata": {},
   "outputs": [],
   "source": [
    "model.add(LSTM(units=50))"
   ]
  },
  {
   "cell_type": "code",
   "execution_count": 21,
   "id": "89204a8a-b788-4655-a234-24e93a2ac8c9",
   "metadata": {},
   "outputs": [],
   "source": [
    "model.add(Dropout(0.2))"
   ]
  },
  {
   "cell_type": "code",
   "execution_count": 22,
   "id": "7952f7e6-11e7-4d29-b653-b4a0d17445c8",
   "metadata": {},
   "outputs": [],
   "source": [
    "model.add(Dense(units=1)) # prediction of the next closing "
   ]
  },
  {
   "cell_type": "code",
   "execution_count": 23,
   "id": "f9ec5727-a580-4dfe-8b87-0e2dd8d1e28f",
   "metadata": {},
   "outputs": [],
   "source": [
    "model.compile(optimizer='adam', loss='mean_squared_error')"
   ]
  },
  {
   "cell_type": "code",
   "execution_count": 24,
   "id": "b27ea3e5-35bf-4065-871a-92dd0f9fb47a",
   "metadata": {},
   "outputs": [
    {
     "name": "stdout",
     "output_type": "stream",
     "text": [
      "Epoch 1/25\n",
      "59/59 [==============================] - 19s 103ms/step - loss: 0.0262\n",
      "Epoch 2/25\n",
      "59/59 [==============================] - 6s 100ms/step - loss: 0.0039\n",
      "Epoch 3/25\n",
      "59/59 [==============================] - 6s 105ms/step - loss: 0.0034\n",
      "Epoch 4/25\n",
      "59/59 [==============================] - 6s 105ms/step - loss: 0.0036\n",
      "Epoch 5/25\n",
      "59/59 [==============================] - 6s 102ms/step - loss: 0.0040\n",
      "Epoch 6/25\n",
      "59/59 [==============================] - 6s 107ms/step - loss: 0.0034\n",
      "Epoch 7/25\n",
      "59/59 [==============================] - 6s 101ms/step - loss: 0.0033\n",
      "Epoch 8/25\n",
      "59/59 [==============================] - 6s 102ms/step - loss: 0.0026 1\n",
      "Epoch 9/25\n",
      "59/59 [==============================] - 6s 103ms/step - loss: 0.0026\n",
      "Epoch 10/25\n",
      "59/59 [==============================] - 6s 99ms/step - loss: 0.0031\n",
      "Epoch 11/25\n",
      "59/59 [==============================] - 6s 93ms/step - loss: 0.0030\n",
      "Epoch 12/25\n",
      "59/59 [==============================] - 6s 96ms/step - loss: 0.0025\n",
      "Epoch 13/25\n",
      "59/59 [==============================] - 6s 107ms/step - loss: 0.0029\n",
      "Epoch 14/25\n",
      "59/59 [==============================] - 6s 106ms/step - loss: 0.0024\n",
      "Epoch 15/25\n",
      "59/59 [==============================] - 6s 107ms/step - loss: 0.0026\n",
      "Epoch 16/25\n",
      "59/59 [==============================] - 7s 110ms/step - loss: 0.0025\n",
      "Epoch 17/25\n",
      "59/59 [==============================] - 6s 104ms/step - loss: 0.0026\n",
      "Epoch 18/25\n",
      "59/59 [==============================] - 5s 88ms/step - loss: 0.0024\n",
      "Epoch 19/25\n",
      "59/59 [==============================] - 5s 92ms/step - loss: 0.0025\n",
      "Epoch 20/25\n",
      "59/59 [==============================] - 6s 110ms/step - loss: 0.0024 1s -\n",
      "Epoch 21/25\n",
      "59/59 [==============================] - 6s 110ms/step - loss: 0.0024\n",
      "Epoch 22/25\n",
      "59/59 [==============================] - 6s 108ms/step - loss: 0.0024\n",
      "Epoch 23/25\n",
      "59/59 [==============================] - 5s 88ms/step - loss: 0.0022\n",
      "Epoch 24/25\n",
      "59/59 [==============================] - 6s 107ms/step - loss: 0.0023\n",
      "Epoch 25/25\n",
      "59/59 [==============================] - 6s 102ms/step - loss: 0.0018\n"
     ]
    },
    {
     "data": {
      "text/plain": [
       "<tensorflow.python.keras.callbacks.History at 0x2c1863e3220>"
      ]
     },
     "execution_count": 24,
     "metadata": {},
     "output_type": "execute_result"
    }
   ],
   "source": [
    "model.fit(x_train, y_train, epochs=25, batch_size=32)"
   ]
  },
  {
   "cell_type": "markdown",
   "id": "b6d4ee24-7851-4e59-bb3c-4203b63fd4df",
   "metadata": {},
   "source": [
    "### Test the Model Accuracy on Existing Data"
   ]
  },
  {
   "cell_type": "markdown",
   "id": "9d7a4817-c72f-434d-b1b6-070ca51d4eff",
   "metadata": {},
   "source": [
    "####  load Test Data"
   ]
  },
  {
   "cell_type": "code",
   "execution_count": 27,
   "id": "4f219d64-a620-4471-b5e7-3f12fc742693",
   "metadata": {},
   "outputs": [],
   "source": [
    "test_start=dt.datetime(2020,1,1)"
   ]
  },
  {
   "cell_type": "code",
   "execution_count": 28,
   "id": "0341c5be-5f3b-4013-af07-c9ff4286a1af",
   "metadata": {},
   "outputs": [],
   "source": [
    "test_end=dt.datetime.now()"
   ]
  },
  {
   "cell_type": "code",
   "execution_count": 29,
   "id": "ef05f820-9041-446d-8e23-50cb26f139a2",
   "metadata": {},
   "outputs": [],
   "source": [
    "test_data=web.DataReader(company,'yahoo', test_start, test_end)"
   ]
  },
  {
   "cell_type": "code",
   "execution_count": 30,
   "id": "d8bc8fcd-d895-479d-9d9c-c6022f1353d0",
   "metadata": {},
   "outputs": [],
   "source": [
    "actual_prices=test_data['Close'].values"
   ]
  },
  {
   "cell_type": "code",
   "execution_count": 31,
   "id": "741c72a4-6957-4c1c-9b6e-f229f570b7ce",
   "metadata": {},
   "outputs": [],
   "source": [
    "total_dataset=pd.concat((data['Close'],test_data['Close']),axis=0)"
   ]
  },
  {
   "cell_type": "code",
   "execution_count": 32,
   "id": "65ba30ff-0de8-4780-80c0-8f65e1833256",
   "metadata": {},
   "outputs": [],
   "source": [
    "model_inputs=total_dataset[len(total_dataset)-len(test_data)-prediction_days:].values"
   ]
  },
  {
   "cell_type": "code",
   "execution_count": 33,
   "id": "fceaf834-98c0-40d4-8558-d626184e1683",
   "metadata": {},
   "outputs": [],
   "source": [
    "model_inputs=model_inputs.reshape(-1,1)"
   ]
  },
  {
   "cell_type": "code",
   "execution_count": 34,
   "id": "68305f44-58a2-48db-80c0-cde0f0655bdb",
   "metadata": {},
   "outputs": [],
   "source": [
    "model_inputs=scaler.transform(model_inputs)"
   ]
  },
  {
   "cell_type": "markdown",
   "id": "a3a496b4-504c-4b01-bffe-8edd4b526754",
   "metadata": {},
   "source": [
    "#### make prediction on Test Data"
   ]
  },
  {
   "cell_type": "code",
   "execution_count": 36,
   "id": "835fdf87-2c89-413f-b5e7-cd206534506b",
   "metadata": {},
   "outputs": [],
   "source": [
    "x_test=[]"
   ]
  },
  {
   "cell_type": "code",
   "execution_count": 37,
   "id": "83e138d8-0e6d-4b3a-b345-bf0282eb7674",
   "metadata": {},
   "outputs": [],
   "source": [
    "for x in range(prediction_days, len(model_inputs)):\n",
    "    x_test.append(model_inputs[x-prediction_days:x,0])"
   ]
  },
  {
   "cell_type": "code",
   "execution_count": 38,
   "id": "a6b2aa81-23d1-4b7d-8581-2b5228628b2e",
   "metadata": {},
   "outputs": [],
   "source": [
    "x_test=np.array(x_test)"
   ]
  },
  {
   "cell_type": "code",
   "execution_count": 39,
   "id": "9d6b41bd-a356-48d7-a7b8-47c8177f5df3",
   "metadata": {},
   "outputs": [],
   "source": [
    "x_test= np.reshape(x_test,(x_test.shape[0],x_test.shape[1],1))"
   ]
  },
  {
   "cell_type": "code",
   "execution_count": 40,
   "id": "be3c1e01-d004-456e-8505-291688112d55",
   "metadata": {},
   "outputs": [],
   "source": [
    "predicted_prices=model.predict(x_test)"
   ]
  },
  {
   "cell_type": "code",
   "execution_count": 41,
   "id": "0ecc1282-46d2-4722-aafc-1e69b78fe928",
   "metadata": {},
   "outputs": [],
   "source": [
    "predicted_prices=scaler.inverse_transform(predicted_prices)"
   ]
  },
  {
   "cell_type": "markdown",
   "id": "e831f032-30d8-4523-b275-fea38b1a0a21",
   "metadata": {},
   "source": [
    "#### Plot the Test Predictions"
   ]
  },
  {
   "cell_type": "code",
   "execution_count": 44,
   "id": "ad3346e9-469d-4b1c-a1fd-dcec5de26f97",
   "metadata": {},
   "outputs": [
    {
     "data": {
      "image/png": "[encoded data removed]",
      "text/plain": [
       "<Figure size 432x288 with 1 Axes>"
      ]
     },
     "metadata": {
      "needs_background": "light"
     },
     "output_type": "display_data"
    }
   ],
   "source": [
    "plt.plot(actual_prices, color='black',label=f'Actaul {company} Prices')\n",
    "plt.plot(predicted_prices,color='green',label=f'Predicted {company} Price')\n",
    "plt.title(f'{company} Share Prices')\n",
    "plt.xlabel('Time')\n",
    "plt.ylabel(f'{company} Share Price')\n",
    "plt.legend()\n",
    "plt.show()"
   ]
  },
  {
   "cell_type": "markdown",
   "id": "444a3e3c-77ea-4d3e-89ce-30d285230604",
   "metadata": {},
   "source": [
    "#### Predicting Next Day"
   ]
  },
  {
   "cell_type": "code",
   "execution_count": 46,
   "id": "8e547e0a-b231-48d5-b1f9-e7d6c18d7f4e",
   "metadata": {},
   "outputs": [],
   "source": [
    "real_data=[model_inputs[len(model_inputs)+ 1- prediction_days:len(model_inputs+1),0]]"
   ]
  },
  {
   "cell_type": "code",
   "execution_count": 47,
   "id": "2be09af9-92aa-4318-ab3d-7c5388b2a984",
   "metadata": {},
   "outputs": [],
   "source": [
    "real_data=np.array(real_data)"
   ]
  },
  {
   "cell_type": "code",
   "execution_count": 48,
   "id": "8ed7c935-bc1d-4281-b9d9-94080b87d25c",
   "metadata": {},
   "outputs": [],
   "source": [
    "real_data=np.reshape(real_data, (real_data.shape[0],real_data.shape[1],1))"
   ]
  },
  {
   "cell_type": "code",
   "execution_count": 49,
   "id": "684bd103-37a5-46f3-8880-c9e92f09c30f",
   "metadata": {},
   "outputs": [
    {
     "name": "stdout",
     "output_type": "stream",
     "text": [
      "WARNING:tensorflow:Model was constructed with shape (None, 60, 1) for input KerasTensor(type_spec=TensorSpec(shape=(None, 60, 1), dtype=tf.float32, name='lstm_input'), name='lstm_input', description=\"created by layer 'lstm_input'\"), but it was called on an input with incompatible shape (None, 59, 1).\n"
     ]
    }
   ],
   "source": [
    "prediction=model.predict(real_data)"
   ]
  },
  {
   "cell_type": "code",
   "execution_count": 50,
   "id": "b3bb78d0-f5af-4b3d-961c-c7396314654c",
   "metadata": {},
   "outputs": [],
   "source": [
    "prediction=scaler.inverse_transform(prediction)"
   ]
  },
  {
   "cell_type": "code",
   "execution_count": 51,
   "id": "53d5ad2b-a47c-4dfd-ba63-216fc11277b5",
   "metadata": {},
   "outputs": [
    {
     "name": "stdout",
     "output_type": "stream",
     "text": [
      "Prediction:[[299.15335]]\n"
     ]
    }
   ],
   "source": [
    "print(f'Prediction:{prediction}')"
   ]
  },
  {
   "cell_type": "code",
   "execution_count": null,
   "id": "4e9c8036-ee9d-4dec-a7d7-016cd13215fc",
   "metadata": {},
   "outputs": [],
   "source": []
  }
 ],
 "metadata": {
  "kernelspec": {
   "display_name": "machinelearning",
   "language": "python",
   "name": "machinelearning"
  },
  "language_info": {
   "codemirror_mode": {
    "name": "ipython",
    "version": 3
   },
   "file_extension": ".py",
   "mimetype": "text/x-python",
   "name": "python",
   "nbconvert_exporter": "python",
   "pygments_lexer": "ipython3",
   "version": "3.9.5"
  }
 },
 "nbformat": 4,
 "nbformat_minor": 5
}
